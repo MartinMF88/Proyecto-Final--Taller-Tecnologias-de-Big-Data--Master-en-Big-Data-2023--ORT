{
 "cells": [
  {
   "cell_type": "code",
   "execution_count": 8,
   "id": "4572bbc5-2d67-4492-8634-04f1160f9ca5",
   "metadata": {},
   "outputs": [],
   "source": [
    "from pyspark.sql import SparkSession\n",
    "\n",
    "from pyspark.sql.functions import *\n",
    "from pyspark.sql.types import *\n",
    "\n",
    "spark = SparkSession \\\n",
    "    .builder \\\n",
    "    .appName(\"how to read csv file\") \\\n",
    "    .getOrCreate()"
   ]
  },
  {
   "cell_type": "markdown",
   "id": "de104010-bb7d-4c8c-a95a-ad254deb3023",
   "metadata": {},
   "source": [
    "**Cargo los datos en un dataframe de spark**"
   ]
  },
  {
   "cell_type": "code",
   "execution_count": 9,
   "id": "07390fb4-959e-41c9-be6f-3366bffaa89f",
   "metadata": {},
   "outputs": [],
   "source": [
    "users_refined = spark.read.csv('/user/ort/obligatorio/users.csv', header=True, encoding=\"ISO-8859-1\")"
   ]
  },
  {
   "cell_type": "markdown",
   "id": "6675ab96-8cec-4fd6-b070-a399e9c139f5",
   "metadata": {},
   "source": [
    "**Vista previa de las primeras filas**"
   ]
  },
  {
   "cell_type": "code",
   "execution_count": 10,
   "id": "3afab718-1523-4df3-a822-2669b5f075f6",
   "metadata": {},
   "outputs": [
    {
     "name": "stdout",
     "output_type": "stream",
     "text": [
      "+-------+----------+-----------+--------------------+-----------+---+---------------+------------------------+-------------------------+\n",
      "|user_id|first_name|  last_name|               email|     gender|age|principal_sport|other_sports_of_interest|principal_sport_frequency|\n",
      "+-------+----------+-----------+--------------------+-----------+---+---------------+------------------------+-------------------------+\n",
      "|      1|      Alic|    Kaemena|akaemena0@4shared...|       Male| 18|     Senderismo|                Handball|                   Yearly|\n",
      "|      2|    Dorrie|   Fountian|dfountian1@craigs...|     Female| 51|        Running|              Senderismo|                   Weekly|\n",
      "|      3|   Spenser|  Fernandes|sfernandes2@devhu...|       Male| 31|       Natación|                  Tennis|                     Once|\n",
      "|      4|    Andris|    Moakson|amoakson3@rediff.com|       Male| 22|         Tennis|                  Volley|                   Weekly|\n",
      "|      5|     Elsey|   Rathbone|erathbone4@bloglo...|     Female| 23|       Natación|                  Tennis|                   Seldom|\n",
      "|      6|  Vivianna|     Naerup|vnaerup5@sourcefo...|     Female| 46|        Rafting|                  Fútbol|                  Monthly|\n",
      "|      7|    Jobina|     Toller|jtoller6@cbslocal...|     Female| 56|       Ciclismo|                  Tennis|                    Never|\n",
      "|      8|    Debbie|    Ambrodi|dambrodi7@seattle...|     Female| 51|       Trecking|                 Rafting|                    Often|\n",
      "|      9|   Kathryn|  Lissenden|klissenden8@quant...|     Female| 53|         Tennis|                 Running|                  Monthly|\n",
      "|     10|   Jeannie|Prettejohns|jprettejohns9@the...| Non-binary| 24|       Trecking|                 Running|                     Once|\n",
      "|     11|      Nike|     Clelle|nclellea@csmonito...|Genderfluid| 33|       Natación|                  Fútbol|                  Monthly|\n",
      "|     12|  Shoshana|    Tenaunt|stenauntb@mozilla...|     Female| 49|        Running|              Senderismo|                  Monthly|\n",
      "|     13|        Em|    Albrook|ealbrookc@netscap...|     Female| 29|        Running|                Ciclismo|                   Seldom|\n",
      "|     14|     Judah|     Fearon|  jfearond@phpbb.com|       Male| 36|       Handball|                  Fútbol|                    Often|\n",
      "|     15|      Jock|Mothersdale|jmothersdalee@wik...|       Male| 58|       Handball|                  Volley|                   Weekly|\n",
      "|     16| Kristofor|   Holstein|kholsteinf@nature...|       Male| 51|       Natación|                  Fútbol|                     Once|\n",
      "|     17|     Edwin|    Battams|ebattamsg@pagineg...|       Male| 38|         Fútbol|                Handball|                    Often|\n",
      "|     18|   Stefano|     Truman|strumanh@xinhuane...|       Male| 24|       Natación|                  Volley|                     Once|\n",
      "|     19|  Mohammed|    Kincaid|mkincaidi@columbi...|       Male| 69|         Volley|                 Running|                   Weekly|\n",
      "|     20|      Tova|    Chazier|  tchazierj@nasa.gov|     Female| 65|       Natación|                  Fútbol|                     Once|\n",
      "+-------+----------+-----------+--------------------+-----------+---+---------------+------------------------+-------------------------+\n",
      "only showing top 20 rows\n",
      "\n"
     ]
    }
   ],
   "source": [
    "users_refined.show()"
   ]
  },
  {
   "cell_type": "markdown",
   "id": "033658de-dd51-4cdb-9057-581ce5f200ff",
   "metadata": {},
   "source": [
    "**Cantidad de columnas del dataframe monthly_pays**"
   ]
  },
  {
   "cell_type": "code",
   "execution_count": 11,
   "id": "e4c20636-ec49-4547-968a-b1c440377846",
   "metadata": {},
   "outputs": [
    {
     "data": {
      "text/plain": [
       "9"
      ]
     },
     "execution_count": 11,
     "metadata": {},
     "output_type": "execute_result"
    }
   ],
   "source": [
    "num_columns=len(users_refined.columns)\n",
    "num_columns"
   ]
  },
  {
   "cell_type": "markdown",
   "id": "0fe0bd89-4e1f-4245-9952-2ef2cc871844",
   "metadata": {},
   "source": [
    "**Nombre de las columnas de monthly_pays**"
   ]
  },
  {
   "cell_type": "code",
   "execution_count": 12,
   "id": "3d0db6ea-9d3c-476a-acd9-9ced60d0bda4",
   "metadata": {},
   "outputs": [
    {
     "data": {
      "text/plain": [
       "['user_id',\n",
       " 'first_name',\n",
       " 'last_name',\n",
       " 'email',\n",
       " 'gender',\n",
       " 'age',\n",
       " 'principal_sport',\n",
       " 'other_sports_of_interest',\n",
       " 'principal_sport_frequency']"
      ]
     },
     "execution_count": 12,
     "metadata": {},
     "output_type": "execute_result"
    }
   ],
   "source": [
    "users_refined.columns"
   ]
  },
  {
   "cell_type": "markdown",
   "id": "af4bdfd1-1d42-44da-b75d-a9680124763e",
   "metadata": {},
   "source": [
    "**Descripción de los datos de la tabla**"
   ]
  },
  {
   "cell_type": "code",
   "execution_count": 13,
   "id": "db432037-b83b-4a4f-bad6-286256103959",
   "metadata": {},
   "outputs": [
    {
     "data": {
      "text/plain": [
       "<bound method DataFrame.describe of DataFrame[user_id: string, first_name: string, last_name: string, email: string, gender: string, age: string, principal_sport: string, other_sports_of_interest: string, principal_sport_frequency: string]>"
      ]
     },
     "execution_count": 13,
     "metadata": {},
     "output_type": "execute_result"
    }
   ],
   "source": [
    "users_refined.describe"
   ]
  },
  {
   "cell_type": "markdown",
   "id": "9f2cd7ac-2c45-4c08-aa69-42ca72a7a784",
   "metadata": {},
   "source": [
    "**Schema de la tabla**"
   ]
  },
  {
   "cell_type": "code",
   "execution_count": 14,
   "id": "a41e1f24-6d55-4a00-8ab8-2e8fa3fcdb3f",
   "metadata": {},
   "outputs": [
    {
     "name": "stdout",
     "output_type": "stream",
     "text": [
      "root\n",
      " |-- user_id: string (nullable = true)\n",
      " |-- first_name: string (nullable = true)\n",
      " |-- last_name: string (nullable = true)\n",
      " |-- email: string (nullable = true)\n",
      " |-- gender: string (nullable = true)\n",
      " |-- age: string (nullable = true)\n",
      " |-- principal_sport: string (nullable = true)\n",
      " |-- other_sports_of_interest: string (nullable = true)\n",
      " |-- principal_sport_frequency: string (nullable = true)\n",
      "\n"
     ]
    }
   ],
   "source": [
    "users_refined.printSchema()"
   ]
  },
  {
   "cell_type": "markdown",
   "id": "a4828a42-15f7-4252-9788-d0ec657b6dbb",
   "metadata": {},
   "source": [
    "**Valores Nulos o Faltantes**"
   ]
  },
  {
   "cell_type": "code",
   "execution_count": 15,
   "id": "7ef8d075-ad70-472e-ab8b-f310bee0f2ec",
   "metadata": {},
   "outputs": [
    {
     "name": "stdout",
     "output_type": "stream",
     "text": [
      "+-------+----------+---------+-----+------+---+---------------+------------------------+-------------------------+\n",
      "|user_id|first_name|last_name|email|gender|age|principal_sport|other_sports_of_interest|principal_sport_frequency|\n",
      "+-------+----------+---------+-----+------+---+---------------+------------------------+-------------------------+\n",
      "|      0|         0|        0|    0|     0|  0|              0|                       5|                        0|\n",
      "+-------+----------+---------+-----+------+---+---------------+------------------------+-------------------------+\n",
      "\n"
     ]
    }
   ],
   "source": [
    "total_nulos = users_refined.select([sum(col(c).isNull().cast(\"int\")).alias(c) for c in users_refined.columns])\n",
    "\n",
    "total_nulos.show()"
   ]
  },
  {
   "cell_type": "code",
   "execution_count": 16,
   "id": "637a7646-2fc8-4242-afc1-c4bec6738d68",
   "metadata": {},
   "outputs": [
    {
     "name": "stderr",
     "output_type": "stream",
     "text": [
      "                                                                                \r"
     ]
    }
   ],
   "source": [
    "hdfs_path = \"/user/ort/obligatorio/refined/refined_users/\"\n",
    "users_refined.write.csv(hdfs_path, header=False, mode=\"overwrite\")"
   ]
  }
 ],
 "metadata": {
  "kernelspec": {
   "display_name": "Python 3 (ipykernel)",
   "language": "python",
   "name": "python3"
  },
  "language_info": {
   "codemirror_mode": {
    "name": "ipython",
    "version": 3
   },
   "file_extension": ".py",
   "mimetype": "text/x-python",
   "name": "python",
   "nbconvert_exporter": "python",
   "pygments_lexer": "ipython3",
   "version": "3.8.8"
  }
 },
 "nbformat": 4,
 "nbformat_minor": 5
}
