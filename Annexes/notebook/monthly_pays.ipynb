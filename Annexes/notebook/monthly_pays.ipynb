{
 "cells": [
  {
   "cell_type": "code",
   "execution_count": 113,
   "id": "4572bbc5-2d67-4492-8634-04f1160f9ca5",
   "metadata": {},
   "outputs": [],
   "source": [
    "from pyspark.sql import SparkSession\n",
    "\n",
    "from pyspark.sql.functions import *\n",
    "from pyspark.sql.types import *\n",
    "\n",
    "spark = SparkSession \\\n",
    "    .builder \\\n",
    "    .appName(\"how to read csv file\") \\\n",
    "    .getOrCreate()"
   ]
  },
  {
   "cell_type": "markdown",
   "id": "de104010-bb7d-4c8c-a95a-ad254deb3023",
   "metadata": {},
   "source": [
    "**Cargo los datos en un dataframe de spark**"
   ]
  },
  {
   "cell_type": "code",
   "execution_count": 114,
   "id": "07390fb4-959e-41c9-be6f-3366bffaa89f",
   "metadata": {},
   "outputs": [],
   "source": [
    "df = spark.read.csv('/user/ort/obligatorio/monthly_pays.csv', header=True)"
   ]
  },
  {
   "cell_type": "markdown",
   "id": "6675ab96-8cec-4fd6-b070-a399e9c139f5",
   "metadata": {},
   "source": [
    "**Vista previa de las primeras filas**"
   ]
  },
  {
   "cell_type": "code",
   "execution_count": 115,
   "id": "3afab718-1523-4df3-a822-2669b5f075f6",
   "metadata": {},
   "outputs": [
    {
     "name": "stdout",
     "output_type": "stream",
     "text": [
      "+-------+----+----------------+--------------+-------------+---------------------+-----------------------------+\n",
      "|user_id|plan|mensual_cost_usd|local_currency|      country|has_monthly_purchases|purchase_value_local_currency|\n",
      "+-------+----+----------------+--------------+-------------+---------------------+-----------------------------+\n",
      "|      1|   C|         $38.90 |         Zloty|       Poland|                FALSE|                       $0.00 |\n",
      "|      2|   D|         $62.02 |          Peso|     Colombia|                FALSE|                       $0.00 |\n",
      "|      3|   C|         $99.53 |        Rupiah|    Indonesia|                 TRUE|                     $768.87 |\n",
      "|      4|   C|        $128.35 |         Naira|      Nigeria|                FALSE|                       $0.00 |\n",
      "|      5|   D|         $46.69 | Yuan Renminbi|        China|                 TRUE|                   $1,558.45 |\n",
      "|      6|   A|         $43.57 |        Dollar|United States|                FALSE|                       $0.00 |\n",
      "|      7|   A|         $38.71 |         Franc|     Cameroon|                FALSE|                       $0.00 |\n",
      "|      8|   B|        $118.55 |         Ruble|       Russia|                FALSE|                       $0.00 |\n",
      "|      9|   D|        $143.93 |          Euro|      Germany|                FALSE|                       $0.00 |\n",
      "|     10|   C|         $62.66 |       Hryvnia|      Ukraine|                 TRUE|                   $1,221.21 |\n",
      "|     11|   B|        $113.58 |        Rupiah|    Indonesia|                 TRUE|                   $2,257.96 |\n",
      "|     12|   B|        $111.53 |         Franc|  Ivory Coast|                FALSE|                       $0.00 |\n",
      "|     13|   D|         $61.68 |         Ruble|       Russia|                FALSE|                       $0.00 |\n",
      "|     14|   C|         $75.93 |          Real|       Brazil|                 TRUE|                     $427.86 |\n",
      "|     15|   B|         $81.10 |          Baht|     Thailand|                 TRUE|                   $1,218.14 |\n",
      "|     16|   A|         $99.95 |          Peso|  Philippines|                 TRUE|                     $801.58 |\n",
      "|     17|   D|         $80.99 |         Krona|       Sweden|                 TRUE|                   $1,439.72 |\n",
      "|     18|   D|         $77.48 | Yuan Renminbi|        China|                FALSE|                       $0.00 |\n",
      "|     19|   C|        $149.26 |         Ruble|       Russia|                FALSE|                       $0.00 |\n",
      "|     20|   A|         $92.08 |          Peso|  Philippines|                FALSE|                       $0.00 |\n",
      "+-------+----+----------------+--------------+-------------+---------------------+-----------------------------+\n",
      "only showing top 20 rows\n",
      "\n"
     ]
    }
   ],
   "source": [
    "df.show()"
   ]
  },
  {
   "cell_type": "markdown",
   "id": "033658de-dd51-4cdb-9057-581ce5f200ff",
   "metadata": {},
   "source": [
    "**Cantidad de columnas del dataframe monthly_pays**"
   ]
  },
  {
   "cell_type": "code",
   "execution_count": 116,
   "id": "e4c20636-ec49-4547-968a-b1c440377846",
   "metadata": {},
   "outputs": [
    {
     "data": {
      "text/plain": [
       "7"
      ]
     },
     "execution_count": 116,
     "metadata": {},
     "output_type": "execute_result"
    }
   ],
   "source": [
    "num_columns=len(df.columns)\n",
    "num_columns"
   ]
  },
  {
   "cell_type": "markdown",
   "id": "0fe0bd89-4e1f-4245-9952-2ef2cc871844",
   "metadata": {},
   "source": [
    "**Nombre de las columnas de monthly_pays**"
   ]
  },
  {
   "cell_type": "code",
   "execution_count": 117,
   "id": "77aea1a1-3857-474c-a455-d3ba3059150a",
   "metadata": {},
   "outputs": [
    {
     "data": {
      "text/plain": [
       "['user_id',\n",
       " 'plan',\n",
       " 'mensual_cost_usd',\n",
       " 'local_currency',\n",
       " 'country',\n",
       " 'has_monthly_purchases',\n",
       " 'purchase_value_local_currency']"
      ]
     },
     "execution_count": 117,
     "metadata": {},
     "output_type": "execute_result"
    }
   ],
   "source": [
    "df.columns"
   ]
  },
  {
   "cell_type": "markdown",
   "id": "af4bdfd1-1d42-44da-b75d-a9680124763e",
   "metadata": {},
   "source": [
    "**Descripción de los datos de la tabla**"
   ]
  },
  {
   "cell_type": "code",
   "execution_count": 118,
   "id": "db432037-b83b-4a4f-bad6-286256103959",
   "metadata": {},
   "outputs": [
    {
     "data": {
      "text/plain": [
       "<bound method DataFrame.describe of DataFrame[user_id: string, plan: string, mensual_cost_usd: string, local_currency: string, country: string, has_monthly_purchases: string, purchase_value_local_currency: string]>"
      ]
     },
     "execution_count": 118,
     "metadata": {},
     "output_type": "execute_result"
    }
   ],
   "source": [
    "df.describe"
   ]
  },
  {
   "cell_type": "markdown",
   "id": "9f2cd7ac-2c45-4c08-aa69-42ca72a7a784",
   "metadata": {},
   "source": [
    "**Schema de la tabla**"
   ]
  },
  {
   "cell_type": "code",
   "execution_count": 119,
   "id": "a41e1f24-6d55-4a00-8ab8-2e8fa3fcdb3f",
   "metadata": {},
   "outputs": [
    {
     "name": "stdout",
     "output_type": "stream",
     "text": [
      "root\n",
      " |-- user_id: string (nullable = true)\n",
      " |-- plan: string (nullable = true)\n",
      " |-- mensual_cost_usd: string (nullable = true)\n",
      " |-- local_currency: string (nullable = true)\n",
      " |-- country: string (nullable = true)\n",
      " |-- has_monthly_purchases: string (nullable = true)\n",
      " |-- purchase_value_local_currency: string (nullable = true)\n",
      "\n"
     ]
    }
   ],
   "source": [
    "df.printSchema()"
   ]
  },
  {
   "cell_type": "code",
   "execution_count": 120,
   "id": "998942cc-7bd0-4281-bd22-79238fc0f625",
   "metadata": {},
   "outputs": [],
   "source": [
    "from pyspark.sql.functions import col, regexp_replace\n",
    "\n",
    "df = df.withColumn(\"mensual_cost_usd\", regexp_replace(col(\"mensual_cost_usd\"), \"\\\\$\", \"\"))\n",
    "\n",
    "df = df.withColumn(\"mensual_cost_usd\", col(\"mensual_cost_usd\").cast(\"int\"))"
   ]
  },
  {
   "cell_type": "code",
   "execution_count": 121,
   "id": "eafd4a18-72fb-4cb5-a3a7-d6cd6dc188ae",
   "metadata": {},
   "outputs": [],
   "source": [
    "df = df.withColumn(\"purchase_value_local_currency\", regexp_replace(col(\"purchase_value_local_currency\"), \"\\\\$\", \"\"))\n",
    "\n",
    "df = df.withColumn(\"purchase_value_local_currency\", regexp_replace(col(\"purchase_value_local_currency\"), \",\", \"\").cast(\"float\"))"
   ]
  },
  {
   "cell_type": "code",
   "execution_count": 122,
   "id": "e116b483-67b6-477e-8011-c6a34a9e39c7",
   "metadata": {},
   "outputs": [],
   "source": [
    "df = df.withColumn(\"has_monthly_purchases\", col(\"has_monthly_purchases\").cast(\"boolean\"))"
   ]
  },
  {
   "cell_type": "code",
   "execution_count": 123,
   "id": "2a898177-fec9-4d84-aeff-8a68f99ebfdb",
   "metadata": {},
   "outputs": [
    {
     "name": "stdout",
     "output_type": "stream",
     "text": [
      "root\n",
      " |-- user_id: string (nullable = true)\n",
      " |-- plan: string (nullable = true)\n",
      " |-- mensual_cost_usd: integer (nullable = true)\n",
      " |-- local_currency: string (nullable = true)\n",
      " |-- country: string (nullable = true)\n",
      " |-- has_monthly_purchases: boolean (nullable = true)\n",
      " |-- purchase_value_local_currency: float (nullable = true)\n",
      "\n"
     ]
    }
   ],
   "source": [
    "df.printSchema()"
   ]
  },
  {
   "cell_type": "markdown",
   "id": "a4828a42-15f7-4252-9788-d0ec657b6dbb",
   "metadata": {},
   "source": [
    "**Valores Nulos o Faltantes**"
   ]
  },
  {
   "cell_type": "code",
   "execution_count": 124,
   "id": "7ef8d075-ad70-472e-ab8b-f310bee0f2ec",
   "metadata": {},
   "outputs": [
    {
     "name": "stdout",
     "output_type": "stream",
     "text": [
      "+-------+----+----------------+--------------+-------+---------------------+-----------------------------+\n",
      "|user_id|plan|mensual_cost_usd|local_currency|country|has_monthly_purchases|purchase_value_local_currency|\n",
      "+-------+----+----------------+--------------+-------+---------------------+-----------------------------+\n",
      "|      0|   0|               0|            15|      0|                    0|                            0|\n",
      "+-------+----+----------------+--------------+-------+---------------------+-----------------------------+\n",
      "\n"
     ]
    }
   ],
   "source": [
    "total_nulos = df.select([sum(col(c).isNull().cast(\"int\")).alias(c) for c in df.columns])\n",
    "\n",
    "total_nulos.show()"
   ]
  },
  {
   "cell_type": "code",
   "execution_count": 125,
   "id": "76e7decc-22a0-43d7-b578-76ebddc5de6e",
   "metadata": {},
   "outputs": [
    {
     "name": "stdout",
     "output_type": "stream",
     "text": [
      "+-------+----+----------------+--------------+-------------+---------------------+-----------------------------+\n",
      "|user_id|plan|mensual_cost_usd|local_currency|      country|has_monthly_purchases|purchase_value_local_currency|\n",
      "+-------+----+----------------+--------------+-------------+---------------------+-----------------------------+\n",
      "|    783|   B|             113|       Afghani|  Afghanistan|                 true|                       1209.0|\n",
      "|    829|   C|             140|       Afghani|  Afghanistan|                false|                          0.0|\n",
      "|    835|   D|             100|       Afghani|  Afghanistan|                 true|                      2785.16|\n",
      "|    412|   C|              36|          Euro|Aland Islands|                 true|                      2320.89|\n",
      "|     67|   B|             149|           Lek|      Albania|                 true|                      1535.58|\n",
      "|    104|   D|              48|           Lek|      Albania|                 true|                      2433.05|\n",
      "|    879|   A|              78|           Lek|      Albania|                 true|                      1465.89|\n",
      "|     47|   B|              99|          Peso|    Argentina|                false|                          0.0|\n",
      "|     52|   C|             111|          Peso|    Argentina|                 true|                       259.11|\n",
      "|    111|   D|             121|          Peso|    Argentina|                false|                          0.0|\n",
      "|    143|   C|             104|          Peso|    Argentina|                 true|                       699.79|\n",
      "|    164|   D|              66|          Peso|    Argentina|                 true|                      1272.38|\n",
      "|    262|   B|              92|          Peso|    Argentina|                 true|                       2472.3|\n",
      "|    306|   A|              76|          Peso|    Argentina|                false|                          0.0|\n",
      "|    323|   C|              41|          Peso|    Argentina|                false|                          0.0|\n",
      "|    339|   D|             143|          Peso|    Argentina|                 true|                       157.22|\n",
      "|    463|   C|              42|          Peso|    Argentina|                false|                          0.0|\n",
      "|    512|   D|             122|          Peso|    Argentina|                 true|                      2220.36|\n",
      "|    518|   D|              90|          Peso|    Argentina|                 true|                       2297.9|\n",
      "|    561|   B|             119|          Peso|    Argentina|                 true|                      2002.05|\n",
      "+-------+----+----------------+--------------+-------------+---------------------+-----------------------------+\n",
      "only showing top 20 rows\n",
      "\n"
     ]
    }
   ],
   "source": [
    "from pyspark.sql.window import Window\n",
    "from pyspark.sql import functions as F\n",
    "\n",
    "windowSpec = Window().partitionBy(\"country\")\n",
    "\n",
    "monthly_pays_refined = df.withColumn(\n",
    "    \"local_currency\",\n",
    "    F.when(F.col(\"local_currency\").isNull(), F.first(\"local_currency\", True).over(windowSpec)).otherwise(F.col(\"local_currency\"))\n",
    ")\n",
    "\n",
    "monthly_pays_refined.show()"
   ]
  },
  {
   "cell_type": "code",
   "execution_count": 126,
   "id": "b2657ab8-a54b-4c1a-a8c8-c1a0d972b75d",
   "metadata": {},
   "outputs": [
    {
     "name": "stdout",
     "output_type": "stream",
     "text": [
      "+-------+----+----------------+--------------+-------+---------------------+-----------------------------+\n",
      "|user_id|plan|mensual_cost_usd|local_currency|country|has_monthly_purchases|purchase_value_local_currency|\n",
      "+-------+----+----------------+--------------+-------+---------------------+-----------------------------+\n",
      "|      0|   0|               0|             0|      0|                    0|                            0|\n",
      "+-------+----+----------------+--------------+-------+---------------------+-----------------------------+\n",
      "\n"
     ]
    }
   ],
   "source": [
    "total_nulos = monthly_pays_refined.select([sum(col(c).isNull().cast(\"int\")).alias(c) for c in df.columns])\n",
    "\n",
    "total_nulos.show()"
   ]
  },
  {
   "cell_type": "code",
   "execution_count": 127,
   "id": "637a7646-2fc8-4242-afc1-c4bec6738d68",
   "metadata": {},
   "outputs": [],
   "source": [
    "hdfs_path = \"/user/ort/obligatorio/refined/refined_monthly_pays/\"\n",
    "monthly_pays_refined.write.csv(hdfs_path, header=False, mode=\"overwrite\")"
   ]
  }
 ],
 "metadata": {
  "kernelspec": {
   "display_name": "Python 3 (ipykernel)",
   "language": "python",
   "name": "python3"
  },
  "language_info": {
   "codemirror_mode": {
    "name": "ipython",
    "version": 3
   },
   "file_extension": ".py",
   "mimetype": "text/x-python",
   "name": "python",
   "nbconvert_exporter": "python",
   "pygments_lexer": "ipython3",
   "version": "3.8.8"
  }
 },
 "nbformat": 4,
 "nbformat_minor": 5
}
