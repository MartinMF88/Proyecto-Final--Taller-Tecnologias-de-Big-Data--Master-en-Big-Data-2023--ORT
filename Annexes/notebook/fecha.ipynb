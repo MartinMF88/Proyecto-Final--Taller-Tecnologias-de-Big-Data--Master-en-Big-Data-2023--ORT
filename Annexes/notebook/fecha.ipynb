{
 "cells": [
  {
   "cell_type": "code",
   "execution_count": 1,
   "id": "4572bbc5-2d67-4492-8634-04f1160f9ca5",
   "metadata": {},
   "outputs": [
    {
     "name": "stderr",
     "output_type": "stream",
     "text": [
      "Setting default log level to \"WARN\".\n",
      "To adjust logging level use sc.setLogLevel(newLevel). For SparkR, use setLogLevel(newLevel).\n"
     ]
    },
    {
     "name": "stdout",
     "output_type": "stream",
     "text": [
      "2023-11-26T12:56:22,835 WARN [Thread-4] org.apache.hadoop.util.NativeCodeLoader - Unable to load native-hadoop library for your platform... using builtin-java classes where applicable\n",
      "2023-11-26T12:56:24,589 WARN [Thread-4] org.apache.spark.util.Utils - Service 'SparkUI' could not bind on port 4040. Attempting port 4041.\n",
      "2023-11-26T12:56:24,590 WARN [Thread-4] org.apache.spark.util.Utils - Service 'SparkUI' could not bind on port 4041. Attempting port 4042.\n"
     ]
    }
   ],
   "source": [
    "from pyspark.sql import SparkSession\n",
    "\n",
    "from pyspark.sql.functions import *\n",
    "from pyspark.sql.types import *\n",
    "\n",
    "spark = SparkSession \\\n",
    "    .builder \\\n",
    "    .appName(\"how to read csv file\") \\\n",
    "    .getOrCreate()"
   ]
  },
  {
   "cell_type": "markdown",
   "id": "de104010-bb7d-4c8c-a95a-ad254deb3023",
   "metadata": {},
   "source": [
    "**Cargo los datos en un dataframe de spark**"
   ]
  },
  {
   "cell_type": "code",
   "execution_count": 2,
   "id": "07390fb4-959e-41c9-be6f-3366bffaa89f",
   "metadata": {},
   "outputs": [
    {
     "name": "stderr",
     "output_type": "stream",
     "text": [
      "                                                                                \r"
     ]
    }
   ],
   "source": [
    "fecha_refined = spark.read.csv('/user/ort/obligatorio/fecha.csv', header=True)"
   ]
  },
  {
   "cell_type": "markdown",
   "id": "6675ab96-8cec-4fd6-b070-a399e9c139f5",
   "metadata": {},
   "source": [
    "**Vista previa de las primeras filas**"
   ]
  },
  {
   "cell_type": "code",
   "execution_count": 3,
   "id": "3afab718-1523-4df3-a822-2669b5f075f6",
   "metadata": {},
   "outputs": [
    {
     "name": "stdout",
     "output_type": "stream",
     "text": [
      "+---+----------+----------+\n",
      "| id|fecha_alta|fecha_baja|\n",
      "+---+----------+----------+\n",
      "|  1|  6/2/2021|      null|\n",
      "|  2|  6/2/2021|      null|\n",
      "|  3|  6/3/2021|      null|\n",
      "|  4|  6/3/2021| 3/13/2022|\n",
      "|  5|  6/4/2021| 11/5/2023|\n",
      "|  6|  6/4/2021|  7/3/2022|\n",
      "|  7|  6/5/2021|      null|\n",
      "|  8|  6/8/2021|      null|\n",
      "|  9|  6/9/2021|      null|\n",
      "| 10| 6/11/2021|      null|\n",
      "| 11| 6/12/2021|      null|\n",
      "| 12| 6/12/2021|      null|\n",
      "| 13| 6/13/2021|      null|\n",
      "| 14| 6/13/2021|      null|\n",
      "| 15| 6/15/2021|      null|\n",
      "| 16| 6/15/2021|      null|\n",
      "| 17| 6/16/2021|      null|\n",
      "| 18| 6/16/2021|      null|\n",
      "| 19| 6/18/2021|      null|\n",
      "| 20| 6/19/2021|      null|\n",
      "+---+----------+----------+\n",
      "only showing top 20 rows\n",
      "\n"
     ]
    }
   ],
   "source": [
    "fecha_refined.show()"
   ]
  },
  {
   "cell_type": "markdown",
   "id": "033658de-dd51-4cdb-9057-581ce5f200ff",
   "metadata": {},
   "source": [
    "**Cantidad de columnas del dataframe monthly_pays**"
   ]
  },
  {
   "cell_type": "code",
   "execution_count": 4,
   "id": "e4c20636-ec49-4547-968a-b1c440377846",
   "metadata": {},
   "outputs": [
    {
     "data": {
      "text/plain": [
       "3"
      ]
     },
     "execution_count": 4,
     "metadata": {},
     "output_type": "execute_result"
    }
   ],
   "source": [
    "num_columns=len(fecha_refined.columns)\n",
    "num_columns"
   ]
  },
  {
   "cell_type": "markdown",
   "id": "0fe0bd89-4e1f-4245-9952-2ef2cc871844",
   "metadata": {},
   "source": [
    "**Nombre de las columnas de monthly_pays**"
   ]
  },
  {
   "cell_type": "code",
   "execution_count": 5,
   "id": "30aff4ae-299b-432b-b17b-01888ffc0d5b",
   "metadata": {},
   "outputs": [
    {
     "data": {
      "text/plain": [
       "['id', 'fecha_alta', 'fecha_baja']"
      ]
     },
     "execution_count": 5,
     "metadata": {},
     "output_type": "execute_result"
    }
   ],
   "source": [
    "fecha_refined.columns"
   ]
  },
  {
   "cell_type": "markdown",
   "id": "af4bdfd1-1d42-44da-b75d-a9680124763e",
   "metadata": {},
   "source": [
    "**Descripción de los datos de la tabla**"
   ]
  },
  {
   "cell_type": "code",
   "execution_count": 6,
   "id": "db432037-b83b-4a4f-bad6-286256103959",
   "metadata": {},
   "outputs": [
    {
     "data": {
      "text/plain": [
       "<bound method DataFrame.describe of DataFrame[id: string, fecha_alta: string, fecha_baja: string]>"
      ]
     },
     "execution_count": 6,
     "metadata": {},
     "output_type": "execute_result"
    }
   ],
   "source": [
    "fecha_refined.describe"
   ]
  },
  {
   "cell_type": "markdown",
   "id": "9f2cd7ac-2c45-4c08-aa69-42ca72a7a784",
   "metadata": {},
   "source": [
    "**Schema de la tabla**"
   ]
  },
  {
   "cell_type": "code",
   "execution_count": 7,
   "id": "a41e1f24-6d55-4a00-8ab8-2e8fa3fcdb3f",
   "metadata": {},
   "outputs": [
    {
     "name": "stdout",
     "output_type": "stream",
     "text": [
      "root\n",
      " |-- id: string (nullable = true)\n",
      " |-- fecha_alta: string (nullable = true)\n",
      " |-- fecha_baja: string (nullable = true)\n",
      "\n"
     ]
    }
   ],
   "source": [
    "fecha_refined.printSchema()"
   ]
  },
  {
   "cell_type": "markdown",
   "id": "a4828a42-15f7-4252-9788-d0ec657b6dbb",
   "metadata": {},
   "source": [
    "**Valores Nulos o Faltantes**"
   ]
  },
  {
   "cell_type": "code",
   "execution_count": 8,
   "id": "ac7cdb82-756b-4b47-802e-6886021fc5f5",
   "metadata": {},
   "outputs": [
    {
     "name": "stdout",
     "output_type": "stream",
     "text": [
      "+---+----------+----------+\n",
      "| id|fecha_alta|fecha_baja|\n",
      "+---+----------+----------+\n",
      "|  0|         0|       850|\n",
      "+---+----------+----------+\n",
      "\n"
     ]
    }
   ],
   "source": [
    "total_nulos = fecha_refined.select([sum(col(c).isNull().cast(\"int\")).alias(c) for c in fecha_refined.columns])\n",
    "\n",
    "total_nulos.show()"
   ]
  },
  {
   "cell_type": "markdown",
   "id": "6510455e-103e-471c-9895-2f85b7643611",
   "metadata": {},
   "source": [
    "Los valores nulos corresponden a los usuarios que no se han dado de baja, por lo cual se decide mantenerlos como nulos."
   ]
  },
  {
   "cell_type": "code",
   "execution_count": 9,
   "id": "b82110ee-7c12-46d8-9e3e-ddc635552d6f",
   "metadata": {},
   "outputs": [
    {
     "name": "stdout",
     "output_type": "stream",
     "text": [
      "2023-11-26T12:56:38,308 WARN [Thread-4] org.apache.spark.sql.SparkSession - Using an existing Spark session; only runtime SQL configurations will take effect.\n"
     ]
    }
   ],
   "source": [
    "spark = SparkSession.builder.appName(\"EjemploConversionFecha\").getOrCreate()\n",
    "\n",
    "spark.conf.set(\"spark.sql.legacy.timeParserPolicy\", \"LEGACY\")"
   ]
  },
  {
   "cell_type": "code",
   "execution_count": 10,
   "id": "86f13b2f-9f3b-4a0e-95ab-98757fc19cb6",
   "metadata": {},
   "outputs": [],
   "source": [
    "fecha_refined = fecha_refined.withColumn(\"fecha_alta\", to_date(col(\"fecha_alta\"), \"MM/dd/yyyy\"))"
   ]
  },
  {
   "cell_type": "code",
   "execution_count": 11,
   "id": "d0d06068-5b51-475f-9c54-519ec6d21768",
   "metadata": {},
   "outputs": [],
   "source": [
    "fecha_refined = fecha_refined.withColumn(\"fecha_baja\", to_date(col(\"fecha_baja\"), \"MM/dd/yyyy\"))"
   ]
  },
  {
   "cell_type": "code",
   "execution_count": 12,
   "id": "ccf46b65-f872-4ccf-83fa-42cb0aa5577d",
   "metadata": {},
   "outputs": [
    {
     "name": "stdout",
     "output_type": "stream",
     "text": [
      "root\n",
      " |-- id: string (nullable = true)\n",
      " |-- fecha_alta: date (nullable = true)\n",
      " |-- fecha_baja: date (nullable = true)\n",
      "\n"
     ]
    }
   ],
   "source": [
    "fecha_refined.printSchema()"
   ]
  },
  {
   "cell_type": "code",
   "execution_count": 13,
   "id": "637a7646-2fc8-4242-afc1-c4bec6738d68",
   "metadata": {},
   "outputs": [
    {
     "name": "stderr",
     "output_type": "stream",
     "text": [
      "                                                                                \r"
     ]
    }
   ],
   "source": [
    "hdfs_path = \"/user/ort/obligatorio/refined/refined_fecha/\"\n",
    "fecha_refined.write.csv(hdfs_path, header=False, mode=\"overwrite\")"
   ]
  }
 ],
 "metadata": {
  "kernelspec": {
   "display_name": "Python 3 (ipykernel)",
   "language": "python",
   "name": "python3"
  },
  "language_info": {
   "codemirror_mode": {
    "name": "ipython",
    "version": 3
   },
   "file_extension": ".py",
   "mimetype": "text/x-python",
   "name": "python",
   "nbconvert_exporter": "python",
   "pygments_lexer": "ipython3",
   "version": "3.8.8"
  }
 },
 "nbformat": 4,
 "nbformat_minor": 5
}
