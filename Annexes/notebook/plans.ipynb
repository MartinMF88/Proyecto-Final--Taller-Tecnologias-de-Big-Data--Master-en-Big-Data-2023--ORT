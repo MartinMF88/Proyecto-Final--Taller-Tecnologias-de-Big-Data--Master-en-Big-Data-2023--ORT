{
 "cells": [
  {
   "cell_type": "code",
   "execution_count": 1,
   "id": "4572bbc5-2d67-4492-8634-04f1160f9ca5",
   "metadata": {},
   "outputs": [
    {
     "name": "stderr",
     "output_type": "stream",
     "text": [
      "Setting default log level to \"WARN\".\n",
      "To adjust logging level use sc.setLogLevel(newLevel). For SparkR, use setLogLevel(newLevel).\n"
     ]
    },
    {
     "name": "stdout",
     "output_type": "stream",
     "text": [
      "2023-11-22T23:33:11,991 WARN [Thread-4] org.apache.hadoop.util.NativeCodeLoader - Unable to load native-hadoop library for your platform... using builtin-java classes where applicable\n",
      "2023-11-22T23:33:14,306 WARN [Thread-4] org.apache.spark.util.Utils - Service 'SparkUI' could not bind on port 4040. Attempting port 4041.\n",
      "2023-11-22T23:33:14,307 WARN [Thread-4] org.apache.spark.util.Utils - Service 'SparkUI' could not bind on port 4041. Attempting port 4042.\n",
      "2023-11-22T23:33:14,309 WARN [Thread-4] org.apache.spark.util.Utils - Service 'SparkUI' could not bind on port 4042. Attempting port 4043.\n",
      "2023-11-22T23:33:14,311 WARN [Thread-4] org.apache.spark.util.Utils - Service 'SparkUI' could not bind on port 4043. Attempting port 4044.\n"
     ]
    }
   ],
   "source": [
    "from pyspark.sql import SparkSession\n",
    "\n",
    "from pyspark.sql.functions import *\n",
    "from pyspark.sql.types import *\n",
    "\n",
    "spark = SparkSession \\\n",
    "    .builder \\\n",
    "    .appName(\"how to read csv file\") \\\n",
    "    .getOrCreate()"
   ]
  },
  {
   "cell_type": "markdown",
   "id": "de104010-bb7d-4c8c-a95a-ad254deb3023",
   "metadata": {},
   "source": [
    "**Cargo los datos en un dataframe de spark**"
   ]
  },
  {
   "cell_type": "code",
   "execution_count": 2,
   "id": "07390fb4-959e-41c9-be6f-3366bffaa89f",
   "metadata": {},
   "outputs": [
    {
     "name": "stderr",
     "output_type": "stream",
     "text": [
      "                                                                                \r"
     ]
    }
   ],
   "source": [
    "plans_refined = spark.read.csv('/user/ort/obligatorio/plans.csv', header=True)"
   ]
  },
  {
   "cell_type": "markdown",
   "id": "6675ab96-8cec-4fd6-b070-a399e9c139f5",
   "metadata": {},
   "source": [
    "**Vista previa de las primeras filas**"
   ]
  },
  {
   "cell_type": "code",
   "execution_count": 3,
   "id": "3afab718-1523-4df3-a822-2669b5f075f6",
   "metadata": {},
   "outputs": [
    {
     "name": "stdout",
     "output_type": "stream",
     "text": [
      "+----+--------+----------+\n",
      "|plan|  nombre|created_at|\n",
      "+----+--------+----------+\n",
      "|   A|   Basic|  6/4/2021|\n",
      "|   B|Original|  6/8/2021|\n",
      "|   C|  Family|  6/2/2021|\n",
      "|   D| Premium|  6/2/2021|\n",
      "+----+--------+----------+\n",
      "\n"
     ]
    }
   ],
   "source": [
    "plans_refined.show()"
   ]
  },
  {
   "cell_type": "markdown",
   "id": "033658de-dd51-4cdb-9057-581ce5f200ff",
   "metadata": {},
   "source": [
    "**Cantidad de columnas del dataframe monthly_pays**"
   ]
  },
  {
   "cell_type": "code",
   "execution_count": 4,
   "id": "e4c20636-ec49-4547-968a-b1c440377846",
   "metadata": {},
   "outputs": [
    {
     "data": {
      "text/plain": [
       "3"
      ]
     },
     "execution_count": 4,
     "metadata": {},
     "output_type": "execute_result"
    }
   ],
   "source": [
    "num_columns=len(plans_refined.columns)\n",
    "num_columns"
   ]
  },
  {
   "cell_type": "markdown",
   "id": "0fe0bd89-4e1f-4245-9952-2ef2cc871844",
   "metadata": {},
   "source": [
    "**Nombre de las columnas de monthly_pays**"
   ]
  },
  {
   "cell_type": "code",
   "execution_count": 5,
   "id": "684805a0-2044-4350-975e-7552b2bbd324",
   "metadata": {},
   "outputs": [
    {
     "data": {
      "text/plain": [
       "['plan', 'nombre', 'created_at']"
      ]
     },
     "execution_count": 5,
     "metadata": {},
     "output_type": "execute_result"
    }
   ],
   "source": [
    "plans_refined.columns"
   ]
  },
  {
   "cell_type": "markdown",
   "id": "af4bdfd1-1d42-44da-b75d-a9680124763e",
   "metadata": {},
   "source": [
    "**Descripción de los datos de la tabla**"
   ]
  },
  {
   "cell_type": "code",
   "execution_count": 6,
   "id": "db432037-b83b-4a4f-bad6-286256103959",
   "metadata": {},
   "outputs": [
    {
     "data": {
      "text/plain": [
       "<bound method DataFrame.describe of DataFrame[plan: string, nombre: string, created_at: string]>"
      ]
     },
     "execution_count": 6,
     "metadata": {},
     "output_type": "execute_result"
    }
   ],
   "source": [
    "plans_refined.describe"
   ]
  },
  {
   "cell_type": "markdown",
   "id": "9f2cd7ac-2c45-4c08-aa69-42ca72a7a784",
   "metadata": {},
   "source": [
    "**Schema de la tabla**"
   ]
  },
  {
   "cell_type": "code",
   "execution_count": 7,
   "id": "a41e1f24-6d55-4a00-8ab8-2e8fa3fcdb3f",
   "metadata": {},
   "outputs": [
    {
     "name": "stdout",
     "output_type": "stream",
     "text": [
      "root\n",
      " |-- plan: string (nullable = true)\n",
      " |-- nombre: string (nullable = true)\n",
      " |-- created_at: string (nullable = true)\n",
      "\n"
     ]
    }
   ],
   "source": [
    "plans_refined.printSchema()"
   ]
  },
  {
   "cell_type": "code",
   "execution_count": 8,
   "id": "c4fe5e3f-210a-4c63-8a45-e94d4b5c62e3",
   "metadata": {},
   "outputs": [
    {
     "name": "stdout",
     "output_type": "stream",
     "text": [
      "+----+--------+----------+\n",
      "|plan|  nombre|created_at|\n",
      "+----+--------+----------+\n",
      "|   A|   Basic|  6/4/2021|\n",
      "|   B|Original|  6/8/2021|\n",
      "|   C|  Family|  6/2/2021|\n",
      "|   D| Premium|  6/2/2021|\n",
      "+----+--------+----------+\n",
      "\n"
     ]
    }
   ],
   "source": [
    "plans_refined.show()"
   ]
  },
  {
   "cell_type": "code",
   "execution_count": 9,
   "id": "8573ee61-c52a-4bbc-ad30-56ae2c1e5bb6",
   "metadata": {},
   "outputs": [
    {
     "name": "stdout",
     "output_type": "stream",
     "text": [
      "2023-11-22T23:33:30,075 WARN [Thread-4] org.apache.spark.sql.SparkSession - Using an existing Spark session; only runtime SQL configurations will take effect.\n"
     ]
    }
   ],
   "source": [
    "spark = SparkSession.builder.appName(\"EjemploConversionFecha\").getOrCreate()\n",
    "\n",
    "spark.conf.set(\"spark.sql.legacy.timeParserPolicy\", \"LEGACY\")"
   ]
  },
  {
   "cell_type": "code",
   "execution_count": 10,
   "id": "f24ca90c-9714-4422-86a9-395a89ab6cd7",
   "metadata": {},
   "outputs": [],
   "source": [
    "plans_refined = plans_refined.withColumn(\"created_at\", to_date(col(\"created_at\"), \"mm/dd/yyyy\"))"
   ]
  },
  {
   "cell_type": "code",
   "execution_count": 11,
   "id": "874dcfd3-231e-4f1c-adf8-474c4f216acd",
   "metadata": {},
   "outputs": [
    {
     "name": "stdout",
     "output_type": "stream",
     "text": [
      "root\n",
      " |-- plan: string (nullable = true)\n",
      " |-- nombre: string (nullable = true)\n",
      " |-- created_at: date (nullable = true)\n",
      "\n"
     ]
    }
   ],
   "source": [
    "plans_refined.printSchema()"
   ]
  },
  {
   "cell_type": "code",
   "execution_count": 12,
   "id": "06bf3a3d-1c6d-4d10-803a-b8eae1b29c6c",
   "metadata": {},
   "outputs": [
    {
     "name": "stdout",
     "output_type": "stream",
     "text": [
      "+----+--------+----------+\n",
      "|plan|  nombre|created_at|\n",
      "+----+--------+----------+\n",
      "|   A|   Basic|2021-01-04|\n",
      "|   B|Original|2021-01-08|\n",
      "|   C|  Family|2021-01-02|\n",
      "|   D| Premium|2021-01-02|\n",
      "+----+--------+----------+\n",
      "\n"
     ]
    }
   ],
   "source": [
    "plans_refined.show()"
   ]
  },
  {
   "cell_type": "markdown",
   "id": "a4828a42-15f7-4252-9788-d0ec657b6dbb",
   "metadata": {},
   "source": [
    "**Valores Nulos o Faltantes**"
   ]
  },
  {
   "cell_type": "code",
   "execution_count": 13,
   "id": "7ef8d075-ad70-472e-ab8b-f310bee0f2ec",
   "metadata": {},
   "outputs": [
    {
     "name": "stdout",
     "output_type": "stream",
     "text": [
      "+----+------+----------+\n",
      "|plan|nombre|created_at|\n",
      "+----+------+----------+\n",
      "|   0|     0|         0|\n",
      "+----+------+----------+\n",
      "\n"
     ]
    }
   ],
   "source": [
    "total_nulos = plans_refined.select([sum(col(c).isNull().cast(\"int\")).alias(c) for c in plans_refined.columns])\n",
    "\n",
    "total_nulos.show()"
   ]
  },
  {
   "cell_type": "code",
   "execution_count": 14,
   "id": "637a7646-2fc8-4242-afc1-c4bec6738d68",
   "metadata": {},
   "outputs": [
    {
     "name": "stderr",
     "output_type": "stream",
     "text": [
      "                                                                                \r"
     ]
    }
   ],
   "source": [
    "hdfs_path = \"/user/ort/obligatorio/refined/refined_plans/\"\n",
    "plans_refined.write.csv(hdfs_path, header=False, mode=\"overwrite\")"
   ]
  }
 ],
 "metadata": {
  "kernelspec": {
   "display_name": "Python 3 (ipykernel)",
   "language": "python",
   "name": "python3"
  },
  "language_info": {
   "codemirror_mode": {
    "name": "ipython",
    "version": 3
   },
   "file_extension": ".py",
   "mimetype": "text/x-python",
   "name": "python",
   "nbconvert_exporter": "python",
   "pygments_lexer": "ipython3",
   "version": "3.8.8"
  }
 },
 "nbformat": 4,
 "nbformat_minor": 5
}
