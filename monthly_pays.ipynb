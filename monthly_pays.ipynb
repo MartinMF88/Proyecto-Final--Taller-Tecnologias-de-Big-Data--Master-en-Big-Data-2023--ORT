{
 "cells": [
  {
   "cell_type": "code",
   "execution_count": null,
   "id": "4572bbc5-2d67-4492-8634-04f1160f9ca5",
   "metadata": {},
   "outputs": [],
   "source": [
    "from pyspark.sql import SparkSession\n",
    "\n",
    "from pyspark.sql.functions import *\n",
    "from pyspark.sql.types import *\n",
    "\n",
    "spark = SparkSession \\\n",
    "    .builder \\\n",
    "    .appName(\"how to read csv file\") \\\n",
    "    .getOrCreate()"
   ]
  },
  {
   "cell_type": "markdown",
   "id": "de104010-bb7d-4c8c-a95a-ad254deb3023",
   "metadata": {},
   "source": [
    "**Cargo los datos en un dataframe de spark**"
   ]
  },
  {
   "cell_type": "code",
   "execution_count": null,
   "id": "07390fb4-959e-41c9-be6f-3366bffaa89f",
   "metadata": {},
   "outputs": [],
   "source": [
    "df = spark.read.csv('ort/obligatorio/monthly_pays', header=True)"
   ]
  },
  {
   "cell_type": "markdown",
   "id": "6675ab96-8cec-4fd6-b070-a399e9c139f5",
   "metadata": {},
   "source": [
    "**Vista previa de las primeras filas**"
   ]
  },
  {
   "cell_type": "code",
   "execution_count": null,
   "id": "3afab718-1523-4df3-a822-2669b5f075f6",
   "metadata": {},
   "outputs": [],
   "source": [
    "df.show() # puede ser df.head () tambien, vemos que ponemos"
   ]
  },
  {
   "cell_type": "markdown",
   "id": "033658de-dd51-4cdb-9057-581ce5f200ff",
   "metadata": {},
   "source": [
    "**Cantidad de columnas del dataframe monthly_pays**"
   ]
  },
  {
   "cell_type": "code",
   "execution_count": null,
   "id": "e4c20636-ec49-4547-968a-b1c440377846",
   "metadata": {},
   "outputs": [],
   "source": [
    "num_columns=len(df.columns)\n",
    "num_columns"
   ]
  },
  {
   "cell_type": "markdown",
   "id": "0fe0bd89-4e1f-4245-9952-2ef2cc871844",
   "metadata": {},
   "source": [
    "**Nombre de las columnas de monthly_pays**"
   ]
  },
  {
   "cell_type": "markdown",
   "id": "75462991-955e-4b53-8627-c12aa5a0134c",
   "metadata": {},
   "source": [
    "df.columns"
   ]
  },
  {
   "cell_type": "markdown",
   "id": "af4bdfd1-1d42-44da-b75d-a9680124763e",
   "metadata": {},
   "source": [
    "**Descripción de los datos de la tabla**"
   ]
  },
  {
   "cell_type": "code",
   "execution_count": null,
   "id": "db432037-b83b-4a4f-bad6-286256103959",
   "metadata": {},
   "outputs": [],
   "source": [
    "df.describe  ## aca no se si es esto, me da la impresión que va mas por el lado de la metadata."
   ]
  },
  {
   "cell_type": "markdown",
   "id": "9f2cd7ac-2c45-4c08-aa69-42ca72a7a784",
   "metadata": {},
   "source": [
    "**Schema de la tabla**"
   ]
  },
  {
   "cell_type": "code",
   "execution_count": null,
   "id": "a41e1f24-6d55-4a00-8ab8-2e8fa3fcdb3f",
   "metadata": {},
   "outputs": [],
   "source": [
    "df.printSchema()"
   ]
  },
  {
   "cell_type": "markdown",
   "id": "a4828a42-15f7-4252-9788-d0ec657b6dbb",
   "metadata": {},
   "source": [
    "**Valores Nulos o Faltantes**"
   ]
  },
  {
   "cell_type": "code",
   "execution_count": null,
   "id": "7ef8d075-ad70-472e-ab8b-f310bee0f2ec",
   "metadata": {},
   "outputs": [],
   "source": [
    "df.isnull()"
   ]
  },
  {
   "cell_type": "code",
   "execution_count": null,
   "id": "76e7decc-22a0-43d7-b578-76ebddc5de6e",
   "metadata": {},
   "outputs": [],
   "source": []
  }
 ],
 "metadata": {
  "kernelspec": {
   "display_name": "Python 3 (ipykernel)",
   "language": "python",
   "name": "python3"
  },
  "language_info": {
   "codemirror_mode": {
    "name": "ipython",
    "version": 3
   },
   "file_extension": ".py",
   "mimetype": "text/x-python",
   "name": "python",
   "nbconvert_exporter": "python",
   "pygments_lexer": "ipython3",
   "version": "3.8.8"
  }
 },
 "nbformat": 4,
 "nbformat_minor": 5
}
